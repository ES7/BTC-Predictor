{
 "cells": [
  {
   "cell_type": "code",
   "execution_count": null,
   "id": "317d270d-6dd7-410b-aa66-0ed339e2595b",
   "metadata": {},
   "outputs": [],
   "source": [
    "import pandas\n",
    "from Historic_Crypto import HistoricalData"
   ]
  },
  {
   "cell_type": "code",
   "execution_count": null,
   "id": "4dad5524-c6fa-42a9-86c9-875b3abd99b3",
   "metadata": {},
   "outputs": [],
   "source": [
    "# HistoricalData('crypto-name', interval-in-seconds, 'start-data', 'end-date', verbose=True (default)).retrieve_data()\n",
    "btc_data = HistoricalData('BTC-USD', 60, '2016-05-31-00-00', '2024-05-31-00-00', verbose=False).retrieve_data()"
   ]
  },
  {
   "cell_type": "code",
   "execution_count": null,
   "id": "405b7ee4-c556-4b8b-9f08-68ad8cf7c649",
   "metadata": {},
   "outputs": [],
   "source": [
    "btc_data.to_csv('8_BTC_Data.csv')"
   ]
  }
 ],
 "metadata": {
  "kernelspec": {
   "display_name": "Python 3 (ipykernel)",
   "language": "python",
   "name": "python3"
  },
  "language_info": {
   "codemirror_mode": {
    "name": "ipython",
    "version": 3
   },
   "file_extension": ".py",
   "mimetype": "text/x-python",
   "name": "python",
   "nbconvert_exporter": "python",
   "pygments_lexer": "ipython3",
   "version": "3.11.7"
  }
 },
 "nbformat": 4,
 "nbformat_minor": 5
}
